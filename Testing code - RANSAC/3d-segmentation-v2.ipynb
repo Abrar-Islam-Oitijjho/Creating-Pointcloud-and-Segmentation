{
 "cells": [
  {
   "cell_type": "code",
   "execution_count": 1,
   "id": "443d9d23",
   "metadata": {},
   "outputs": [
    {
     "name": "stdout",
     "output_type": "stream",
     "text": [
      "Jupyter environment detected. Enabling Open3D WebVisualizer.\n",
      "[Open3D INFO] WebRTC GUI backend enabled.\n",
      "[Open3D INFO] WebRTCWindowSystem: HTTP handshake server disabled.\n"
     ]
    }
   ],
   "source": [
    "import numpy as np\n",
    "import matplotlib.pyplot as plt\n",
    "import open3d as o3d"
   ]
  },
  {
   "cell_type": "code",
   "execution_count": 2,
   "id": "203f2db6",
   "metadata": {},
   "outputs": [
    {
     "name": "stdout",
     "output_type": "stream",
     "text": [
      "[Open3D WARNING] Read PLY failed: unable to read file: D:\\ZED\\fused_point_cloud_still.ply\n"
     ]
    },
    {
     "data": {
      "text/plain": [
       "PointCloud with 815877 points."
      ]
     },
     "execution_count": 2,
     "metadata": {},
     "output_type": "execute_result"
    }
   ],
   "source": [
    "# data importing in pcd variable\n",
    "# ply format\n",
    "# PLY is a computer file format known as the Polygon File Format \n",
    "# or the Stanford Triangle Format\n",
    "# C:\\Users\\HDSL36\\Desktop\\Work\\PCL\\office_canvas.ply\n",
    "# C:\\Users\\HDSL36\\Desktop\\Work\\PCL\\AA02.pts\n",
    "# C:\\Users\\HDSL36\\Desktop\\Work\\PCL\\office_pix4D_raw_data.ply\n",
    "pcd = o3d.io.read_point_cloud(r\"D:\\ZED\\fused_point_cloud_still.ply\")\n",
    "pcd.paint_uniform_color([0.6, 0.6, 0.6])"
   ]
  },
  {
   "cell_type": "code",
   "execution_count": 3,
   "id": "ddae4756",
   "metadata": {},
   "outputs": [],
   "source": [
    "downpcd = pcd.voxel_down_sample(voxel_size=0.05)\n",
    "downpcd_o = downpcd\n",
    "pcd = downpcd"
   ]
  },
  {
   "cell_type": "code",
   "execution_count": 4,
   "id": "a2a6cc26",
   "metadata": {},
   "outputs": [
    {
     "name": "stdout",
     "output_type": "stream",
     "text": [
      "the best candidate is:  0\n",
      "pass 1 / 10 done.\n",
      "the best candidate is:  0\n",
      "pass 2 / 10 done.\n",
      "the best candidate is:  0\n",
      "pass 3 / 10 done.\n",
      "the best candidate is:  0\n",
      "pass 4 / 10 done.\n",
      "the best candidate is:  0\n",
      "pass 5 / 10 done.\n",
      "the best candidate is:  0\n",
      "pass 6 / 10 done.\n",
      "the best candidate is:  0\n",
      "pass 7 / 10 done.\n",
      "the best candidate is:  1\n",
      "pass 8 / 10 done.\n",
      "the best candidate is:  0\n",
      "pass 9 / 10 done.\n",
      "the best candidate is:  1\n",
      "pass 10 / 10 done.\n"
     ]
    }
   ],
   "source": [
    "segment_models={}\n",
    "segments={}\n",
    "max_plane_idx=10\n",
    "rest=pcd\n",
    "d_threshold=0.1\n",
    "for i in range(max_plane_idx):\n",
    "    colors = plt.get_cmap(\"tab20\")(i)\n",
    "    segment_models[i], inliers = rest.segment_plane(distance_threshold=0.1,ransac_n=3,num_iterations=5000)\n",
    "    segments[i]=rest.select_by_index(inliers)\n",
    "    # Clustering the plane Using DBSCAN\n",
    "    labels = np.array(segments[i].cluster_dbscan(eps=d_threshold*10, min_points=10))\n",
    "    \n",
    "    #  no of cluster found in that plane segment named as candidates\n",
    "    candidates=[len(np.where(labels==j)[0]) for j in np.unique(labels)]\n",
    "    \n",
    "    # getting the highest point candidate\n",
    "    best_candidate=int(np.unique(labels)[np.where(candidates==np.max(candidates))[0]])\n",
    "    print(\"the best candidate is: \", best_candidate)\n",
    "    rest = rest.select_by_index(inliers, invert=True)+segments[i].select_by_index(list(np.where(labels!=best_candidate)[0]))\n",
    "    segments[i]=segments[i].select_by_index(list(np.where(labels==best_candidate)[0]))\n",
    "    segments[i].paint_uniform_color(list(colors[:3]))\n",
    "    print(\"pass\",i+1,\"/\",max_plane_idx,\"done.\")"
   ]
  },
  {
   "cell_type": "code",
   "execution_count": 5,
   "id": "fa7b2af0",
   "metadata": {},
   "outputs": [
    {
     "name": "stdout",
     "output_type": "stream",
     "text": [
      "[Open3D WARNING] GLFW Error: WGL: Failed to make context current: The requested transformation operation is not supported. \n",
      "[Open3D WARNING] GLFW Error: WGL: Failed to make context current: The handle is invalid. \n"
     ]
    }
   ],
   "source": [
    "o3d.visualization.draw_geometries([segments[i] for i in range(max_plane_idx)]+[rest])"
   ]
  },
  {
   "cell_type": "code",
   "execution_count": null,
   "id": "ad1789d3",
   "metadata": {},
   "outputs": [],
   "source": [
    "o3d.visualization.draw_geometries([pcd])"
   ]
  },
  {
   "cell_type": "code",
   "execution_count": null,
   "id": "26efac12",
   "metadata": {
    "scrolled": false
   },
   "outputs": [],
   "source": [
    " # convert pcd.PointCloud to numpy array\n",
    "pcd_np = np.asarray(pcd.points)\n",
    "print(pcd_np)"
   ]
  },
  {
   "cell_type": "code",
   "execution_count": null,
   "id": "61bc4e64",
   "metadata": {},
   "outputs": [],
   "source": [
    "# data exporting to arrays\n",
    "pcd_np.shape\n",
    "pcd_npx = pcd_np[:,0]\n",
    "pcd_npy = pcd_np[:,1]\n",
    "pcd_npz = pcd_np[:,2]"
   ]
  },
  {
   "cell_type": "code",
   "execution_count": null,
   "id": "c90c5caf",
   "metadata": {
    "scrolled": false
   },
   "outputs": [],
   "source": [
    "# array plot\n",
    "fig = plt.figure()\n",
    "ax = fig.add_subplot(projection='3d')\n",
    "ax.scatter(pcd_npx, pcd_npy, pcd_npz, marker='o')"
   ]
  },
  {
   "cell_type": "code",
   "execution_count": null,
   "id": "13aec6fa",
   "metadata": {},
   "outputs": [],
   "source": [
    "\n",
    "pcd.estimate_normals(search_param=o3d.geometry.KDTreeSearchParamHybrid(radius=0.1, max_nn=16), fast_normal_computation=True)\n",
    "o3d.visualization.draw_geometries([pcd])"
   ]
  },
  {
   "cell_type": "code",
   "execution_count": null,
   "id": "a86b2456",
   "metadata": {},
   "outputs": [],
   "source": [
    "# RANSAC implementation for planar shape detection in point clouds\n",
    "# segment_plane()\n",
    "#      *distance_threshold >> the plane to consider a point inlier or outlier\n",
    "#      *ransac_n >> the number of sampled points drawn to estimate each plane candidate \n",
    "#      *num_iterations >> \n",
    "plane_model, inliers = pcd.segment_plane(distance_threshold=0.03, ransac_n=3, num_iterations=20000)\n",
    "# select the points based on the indexes captured in >> inliers\n",
    "# optionally select all the others as >> outliers\n",
    "inlier_cloud = pcd.select_by_index(inliers)\n",
    "outlier_cloud = pcd.select_by_index(inliers, invert=True)\n",
    "# paint the inliers in red\n",
    "# outlier grey\n",
    "inlier_cloud.paint_uniform_color([1, 0, 0])\n",
    "outlier_cloud.paint_uniform_color([0.6, 0.6, 0.6])\n",
    "\n",
    "o3d.visualization.draw_geometries([inlier_cloud, outlier_cloud])"
   ]
  },
  {
   "cell_type": "code",
   "execution_count": null,
   "id": "5c22c28b",
   "metadata": {},
   "outputs": [],
   "source": [
    "1+2"
   ]
  },
  {
   "cell_type": "code",
   "execution_count": null,
   "id": "36486285",
   "metadata": {},
   "outputs": [],
   "source": [
    "# select the points based on the indexes captured in >> inliers\n",
    "# optionally select all the others as >> outliers\n",
    "inlier_cloud = pcd.select_by_index(inliers)\n",
    "outlier_cloud = pcd.select_by_index(inliers, invert=True)\n"
   ]
  },
  {
   "cell_type": "code",
   "execution_count": null,
   "id": "9a8d485b",
   "metadata": {},
   "outputs": [],
   "source": [
    "# paint the inliers in red\n",
    "# outlier grey\n",
    "inlier_cloud.paint_uniform_color([1, 0, 0])\n",
    "outlier_cloud.paint_uniform_color([0.6, 0.6, 0.6])\n",
    "\n",
    "o3d.visualization.draw_geometries([inlier_cloud, outlier_cloud])"
   ]
  },
  {
   "cell_type": "markdown",
   "id": "dc47f474",
   "metadata": {},
   "source": [
    "# RANSAC on multiple Plane "
   ]
  },
  {
   "cell_type": "code",
   "execution_count": null,
   "id": "60da9b04",
   "metadata": {
    "scrolled": false
   },
   "outputs": [],
   "source": [
    "with o3d.utility.VerbosityContextManager(\n",
    "        o3d.utility.VerbosityLevel.Debug) as cm:\n",
    "    labels = np.array(\n",
    "        pcd.cluster_dbscan(eps=0.15, min_points=10, print_progress=True))\n",
    "\n",
    "max_label = labels.max()\n",
    "print(f\"point cloud has {max_label + 1} clusters\")\n",
    "colors = plt.get_cmap(\"tab20\")(labels / (max_label if max_label > 0 else 1))\n",
    "colors[labels < 0] = 0\n",
    "pcd.colors = o3d.utility.Vector3dVector(colors[:, :3])"
   ]
  },
  {
   "cell_type": "code",
   "execution_count": null,
   "id": "16d41a6c",
   "metadata": {},
   "outputs": [],
   "source": [
    "max_label"
   ]
  },
  {
   "cell_type": "code",
   "execution_count": null,
   "id": "9c4202b2",
   "metadata": {},
   "outputs": [],
   "source": [
    "o3d.visualization.draw_geometries([pcd])"
   ]
  },
  {
   "cell_type": "code",
   "execution_count": null,
   "id": "529155ea",
   "metadata": {},
   "outputs": [],
   "source": [
    "# Clustering with dbscan\n",
    "labels = np.array(pcd.cluster_dbscan(eps=0.05, min_points=10))"
   ]
  },
  {
   "cell_type": "code",
   "execution_count": null,
   "id": "64700abb",
   "metadata": {
    "scrolled": true
   },
   "outputs": [],
   "source": [
    "max_label = labels.max()\n",
    "max_label"
   ]
  },
  {
   "cell_type": "code",
   "execution_count": null,
   "id": "90ebbcda",
   "metadata": {},
   "outputs": [],
   "source": [
    "# labels are valued in term of -1 to n\n",
    "# -1 represents noise\n",
    "# 0-n represetns each label\n",
    "max_label = labels.max()\n",
    "colors = plt.get_cmap(\"tab20\")(labels / (max_label \n",
    "if max_label > 0 else 1))\n",
    "\n",
    "# removing noise settting color to 0\n",
    "colors[labels < 0] = 0\n",
    "\n",
    "pcd.colors = o3d.utility.Vector3dVector(colors[:, :3])\n",
    "\n",
    "o3d.visualization.draw_geometries([pcd])"
   ]
  },
  {
   "cell_type": "code",
   "execution_count": null,
   "id": "0ff9de39",
   "metadata": {},
   "outputs": [],
   "source": [
    "o3d.visualization.draw_geometries([pcd])"
   ]
  },
  {
   "cell_type": "code",
   "execution_count": null,
   "id": "4ba32a11",
   "metadata": {},
   "outputs": [],
   "source": [
    "# each plane is stored  in segments\n",
    "# separating rest of the PCD in rest\n",
    "# iterating rest again to find another plane\n",
    "segment_models={}\n",
    "segments={}\n",
    "\n",
    "# initializing plane quantity for iteration\n",
    "max_plane_idx=20\n",
    "\n",
    "# initializing the pcd to rest\n",
    "rest=pcd\n",
    "\n",
    "for i in range(max_plane_idx):\n",
    "    # taking color from tab20 for pcd plane to be colorized\n",
    "    colors = plt.get_cmap(\"tab20\")(i)\n",
    "    \n",
    "    # applying RANSAC to find plane ransac_n=3 distance_threshold=0.01 num_iteration>> iteration for RANSAC\n",
    "    segment_models[i], inliers = rest.segment_plane(distance_threshold=0.03,ransac_n=3,num_iterations=20000)\n",
    "    \n",
    "    # storing plane to segment && applying color\n",
    "    segments[i]=rest.select_by_index(inliers)\n",
    "    segments[i].paint_uniform_color(list(colors[:3]))\n",
    "    \n",
    "    # seperating others to rest for next iteration\n",
    "    rest = rest.select_by_index(inliers, invert=True)\n",
    "    \n",
    "    \n",
    "    print(\"pass\",i,\"/\",max_plane_idx,\"done.\")\n",
    "\n",
    "o3d.visualization.draw_geometries([segments[i] for i in range(max_plane_idx)]+[rest])"
   ]
  },
  {
   "cell_type": "code",
   "execution_count": null,
   "id": "fc622116",
   "metadata": {},
   "outputs": [],
   "source": [
    "''' After this plane Segmentation there are some line artifact as because we fit all the points to RANSAC plane candidates \n",
    "    (which have no limit extent in the euclidean space) independently of the points density continuity.\n",
    "    So after figuring out each plane we use DBSCAN to cluster the plane which is limited but plane segment and rest of \n",
    "    the things are same '''\n"
   ]
  },
  {
   "cell_type": "markdown",
   "id": "ce36c152",
   "metadata": {},
   "source": [
    "Line Artifact Solution"
   ]
  },
  {
   "cell_type": "code",
   "execution_count": null,
   "id": "67c434b0",
   "metadata": {},
   "outputs": [],
   "source": [
    "segment_models={}\n",
    "segments={}\n",
    "max_plane_idx=30\n",
    "rest=pcd\n",
    "d_threshold=0.1\n",
    "for i in range(max_plane_idx):\n",
    "    colors = plt.get_cmap(\"tab20\")(i)\n",
    "    segment_models[i], inliers = rest.segment_plane(distance_threshold=0.05,ransac_n=3,num_iterations=1000)\n",
    "    segments[i]=rest.select_by_index(inliers)\n",
    "    # Clustering the plane Using DBSCAN\n",
    "    labels = np.array(segments[i].cluster_dbscan(eps=d_threshold*10, min_points=10))\n",
    "    \n",
    "    #  no of cluster found in that plane segment named as candidates\n",
    "    candidates=[len(np.where(labels==j)[0]) for j in np.unique(labels)]\n",
    "    \n",
    "    # getting the highest point candidate\n",
    "    best_candidate=int(np.unique(labels)[np.where(candidates==np.max(candidates))[0]])\n",
    "    print(\"the best candidate is: \", best_candidate)\n",
    "    rest = rest.select_by_index(inliers, invert=True)+segments[i].select_by_index(list(np.where(labels!=best_candidate)[0]))\n",
    "    segments[i]=segments[i].select_by_index(list(np.where(labels==best_candidate)[0]))\n",
    "    segments[i].paint_uniform_color(list(colors[:3]))\n",
    "    print(\"pass\",i+1,\"/\",max_plane_idx,\"done.\")"
   ]
  },
  {
   "cell_type": "code",
   "execution_count": null,
   "id": "5bdf9b4a",
   "metadata": {},
   "outputs": [],
   "source": [
    "o3d.visualization.draw_geometries([segments[i] for i in range(max_plane_idx)]+[rest])"
   ]
  },
  {
   "cell_type": "code",
   "execution_count": null,
   "id": "cf1722dc",
   "metadata": {},
   "outputs": [],
   "source": [
    "# Rest of the planes are labeled , clustered  and colored \n",
    "\n",
    "labels = np.array(rest.cluster_dbscan(eps=0.05, min_points=5)) \n",
    "max_label = labels.max() \n",
    "print(f\"point cloud has {max_label + 1} clusters\")\n",
    "colors = plt.get_cmap(\"tab10\")(labels / (max_label if max_label > 0 \n",
    "else 1)) \n",
    "colors[labels < 0] = 0 \n",
    "rest.colors = o3d.utility.Vector3dVector(colors[:, :3])"
   ]
  },
  {
   "cell_type": "code",
   "execution_count": null,
   "id": "752b584b",
   "metadata": {},
   "outputs": [],
   "source": [
    "labels = np.array(rest.cluster_dbscan(eps=0.05, min_points=5))\n",
    "max_label = labels.max()\n",
    "print(f\"point cloud has {max_label + 1} clusters\")\n",
    "\n",
    "colors = plt.get_cmap(\"tab10\")(labels / (max_label if max_label > 0 else 1))\n",
    "colors[labels < 0] = 0\n",
    "rest.colors = o3d.utility.Vector3dVector(colors[:, :3])\n",
    "\n",
    "# o3d.visualization.draw_geometries([segments.values()])\n",
    "# o3d.visualization.draw_geometries([segments[i] for i in range(max_plane_idx)]+[rest])\n",
    "o3d.visualization.draw_geometries([segments[i] for i in range(max_plane_idx)]+[rest],zoom=0.3199,front=[0.30159062875123849, 0.94077325609922868, 0.15488309545553303],lookat=[-3.9559999108314514, -0.055000066757202148, -0.27599999308586121],up=[-0.044411423633999815, -0.138726419067636, 0.98753122516983349])\n",
    "# o3d.visualization.draw_geometries([rest])"
   ]
  }
 ],
 "metadata": {
  "kernelspec": {
   "display_name": "Python 3",
   "language": "python",
   "name": "python3"
  },
  "language_info": {
   "codemirror_mode": {
    "name": "ipython",
    "version": 3
   },
   "file_extension": ".py",
   "mimetype": "text/x-python",
   "name": "python",
   "nbconvert_exporter": "python",
   "pygments_lexer": "ipython3",
   "version": "3.8.8"
  }
 },
 "nbformat": 4,
 "nbformat_minor": 5
}
